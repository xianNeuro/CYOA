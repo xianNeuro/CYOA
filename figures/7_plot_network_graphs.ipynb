{
 "cells": [
  {
   "cell_type": "code",
   "execution_count": 11,
   "metadata": {
    "scrolled": true
   },
   "outputs": [
    {
     "name": "stdout",
     "output_type": "stream",
     "text": [
      "sub2_CausalityMat_37Events.csv\n",
      "figure saved.\n",
      "sub2_SemanticMat_37nodes.csv\n",
      "figure saved.\n",
      "sub4_CausalityMat_20Events.csv\n",
      "figure saved.\n",
      "sub4_SemanticMat_20nodes.csv\n",
      "figure saved.\n"
     ]
    },
    {
     "data": {
      "text/plain": [
       "<Figure size 432x288 with 0 Axes>"
      ]
     },
     "metadata": {},
     "output_type": "display_data"
    }
   ],
   "source": [
    "#plot two example subjects' semantic network and causal network \n",
    "\n",
    "import xianfunc as xf\n",
    "root = './7_network_plots/'\n",
    "outdir = root\n",
    "fls = xf.grab_all(root,'csv')\n",
    "\n",
    "for f in fls:\n",
    "    print(f)\n",
    "    outname = '_'.join(f.split('_')[0:2])\n",
    "    if 'Sem' in f:\n",
    "        minmax = (-0.1,0.6)\n",
    "    else:\n",
    "        minmax = (0,1)\n",
    "    \n",
    "    #from causal event pairs construct the causal mat, and centrality \n",
    "    caus_mat = xf.read_csv(root+f)\n",
    "    xf.plot_matrix(caus_mat,diagmask=True,map_color='viridis',add=True,minmax=minmax)\n",
    "    xf.plot_save(outpath=outdir+outname,ftype='.eps')\n",
    "    xf.plot_clear()\n"
   ]
  },
  {
   "cell_type": "code",
   "execution_count": null,
   "metadata": {},
   "outputs": [],
   "source": []
  }
 ],
 "metadata": {
  "kernelspec": {
   "display_name": "Python 3",
   "language": "python",
   "name": "python3"
  },
  "language_info": {
   "codemirror_mode": {
    "name": "ipython",
    "version": 3
   },
   "file_extension": ".py",
   "mimetype": "text/x-python",
   "name": "python",
   "nbconvert_exporter": "python",
   "pygments_lexer": "ipython3",
   "version": "3.7.6"
  }
 },
 "nbformat": 4,
 "nbformat_minor": 4
}
